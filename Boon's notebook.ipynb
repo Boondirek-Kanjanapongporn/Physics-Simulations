{
 "cells": [
  {
   "cell_type": "code",
   "execution_count": 2,
   "metadata": {},
   "outputs": [],
   "source": [
    "import numpy as np\n",
    "import matplotlib.pyplot as plt\n",
    "from math import cos, sin, radians, sqrt"
   ]
  },
  {
   "cell_type": "code",
   "execution_count": 70,
   "metadata": {},
   "outputs": [],
   "source": [
    "variable = 7"
   ]
  },
  {
   "cell_type": "code",
   "execution_count": 16,
   "metadata": {
    "scrolled": true
   },
   "outputs": [
    {
     "name": "stdout",
     "output_type": "stream",
     "text": [
      "0.49999999999999994\n",
      "1.5707963267948966 1.5707963267948966\n"
     ]
    }
   ],
   "source": [
    "print (sin (radians(30)))\n",
    "print (np.pi/2, radians (90))"
   ]
  },
  {
   "cell_type": "code",
   "execution_count": 131,
   "metadata": {},
   "outputs": [
    {
     "name": "stdout",
     "output_type": "stream",
     "text": [
      "Is it a prime?\n",
      "73 is a prime\n"
     ]
    }
   ],
   "source": [
    "print (\"Is it a prime?\")\n",
    "v= 73\n",
    "\n",
    "divideCount = 0\n",
    "for i in range (1,v+1):\n",
    "        if (v%i==0):\n",
    "            divideCount += 1\n",
    "\n",
    "if (divideCount==2):\n",
    "    print (v, \"is a prime\")\n",
    "    \n",
    "if (divideCount>2):\n",
    "    print (v, \"isn't a prime\")\n",
    "\n"
   ]
  },
  {
   "cell_type": "code",
   "execution_count": 14,
   "metadata": {
    "scrolled": true
   },
   "outputs": [
    {
     "name": "stdout",
     "output_type": "stream",
     "text": [
      "2 True\n",
      "3 True\n",
      "4 False\n",
      "5 True\n",
      "6 False\n",
      "7 True\n",
      "8 False\n",
      "9 False\n",
      "10 False\n",
      "11 True\n",
      "12 False\n",
      "13 True\n",
      "14 False\n",
      "15 False\n",
      "16 False\n",
      "17 True\n",
      "18 False\n",
      "19 True\n",
      "20 False\n",
      "21 False\n",
      "22 False\n",
      "23 True\n",
      "24 False\n",
      "25 False\n",
      "26 False\n",
      "27 False\n",
      "28 False\n",
      "29 True\n",
      "30 False\n",
      "31 True\n",
      "32 False\n",
      "33 False\n",
      "34 False\n",
      "35 False\n",
      "36 False\n",
      "37 True\n",
      "38 False\n",
      "39 False\n",
      "40 False\n",
      "41 True\n",
      "42 False\n",
      "43 True\n",
      "44 False\n",
      "45 False\n",
      "46 False\n",
      "47 True\n",
      "48 False\n",
      "49 False\n",
      "50 False\n",
      "51 False\n",
      "52 False\n",
      "53 True\n",
      "54 False\n",
      "55 False\n",
      "56 False\n",
      "57 False\n",
      "58 False\n",
      "59 True\n",
      "60 False\n",
      "61 True\n",
      "62 False\n",
      "63 False\n",
      "64 False\n",
      "65 False\n",
      "66 False\n",
      "67 True\n",
      "68 False\n",
      "69 False\n",
      "70 False\n",
      "71 True\n",
      "72 False\n",
      "73 True\n",
      "74 False\n",
      "75 False\n",
      "76 False\n",
      "77 False\n",
      "78 False\n",
      "79 True\n",
      "80 False\n",
      "81 False\n",
      "82 False\n",
      "83 True\n",
      "84 False\n",
      "85 False\n",
      "86 False\n",
      "87 False\n",
      "88 False\n",
      "89 True\n",
      "90 False\n",
      "91 False\n",
      "92 False\n",
      "93 False\n",
      "94 False\n",
      "95 False\n",
      "96 False\n",
      "97 True\n",
      "98 False\n",
      "99 False\n",
      "100 False\n",
      "103 ms ± 8.18 ms per loop (mean ± std. dev. of 7 runs, 10 loops each)\n"
     ]
    }
   ],
   "source": [
    "for v in range (2,101):\n",
    "    prime= True\n",
    "    for d in range (2,v):\n",
    "        if v%d==0:\n",
    "            prime= False\n",
    "            break\n",
    "    print (v,prime)"
   ]
  },
  {
   "cell_type": "code",
   "execution_count": 14,
   "metadata": {},
   "outputs": [
    {
     "name": "stdout",
     "output_type": "stream",
     "text": [
      "2 prime\n",
      "3 prime\n",
      "5 prime\n",
      "7 prime\n",
      "11 prime\n",
      "13 prime\n",
      "17 prime\n",
      "19 prime\n",
      "23 prime\n",
      "29 prime\n",
      "31 prime\n",
      "37 prime\n",
      "41 prime\n",
      "43 prime\n",
      "47 prime\n",
      "53 prime\n",
      "59 prime\n",
      "61 prime\n",
      "67 prime\n",
      "71 prime\n",
      "73 prime\n",
      "79 prime\n",
      "83 prime\n",
      "89 prime\n",
      "97 prime\n"
     ]
    }
   ],
   "source": [
    "for v in range (2,101):\n",
    "    divide = np.arange(1,v+1)\n",
    "    f= ((v%divide)==0)\n",
    "    if (np.sum(f)> 2):\n",
    "        continue\n",
    "    if (np.sum(f)== 2):\n",
    "        a= \"prime\"\n",
    "        print (v, a)"
   ]
  },
  {
   "cell_type": "markdown",
   "metadata": {},
   "source": [
    "--------------------"
   ]
  },
  {
   "cell_type": "markdown",
   "metadata": {},
   "source": [
    "We use euler's method to help solve a projectile motion problem."
   ]
  },
  {
   "cell_type": "code",
   "execution_count": 57,
   "metadata": {},
   "outputs": [
    {
     "data": {
      "image/png": "[encoded data removed]",
      "text/plain": [
       "<Figure size 432x288 with 1 Axes>"
      ]
     },
     "metadata": {
      "needs_background": "light"
     },
     "output_type": "display_data"
    }
   ],
   "source": [
    "#constants\n",
    "g  =   -9.8  #m/s^2\n",
    "Vxi=    10   #m/s\n",
    "Vyi=    10   #m/s\n",
    "dt =    0.01 #s\n",
    "\n",
    "\n",
    "#variables\n",
    "x= np.zeros(200)\n",
    "y= np.zeros(200)\n",
    "t= np.arange(200)*dt\n",
    "\n",
    "for i in range (0,200-1):\n",
    "    #(equation)'\n",
    "    dx_dt= Vxi\n",
    "    dy_dt= Vyi+g*t[i]\n",
    "\n",
    "    #euler's method\n",
    "    x[i+1]= dx_dt*dt + x[i]\n",
    "    y[i+1]= dy_dt*dt + y[i]\n",
    "    \n",
    "#plotting\n",
    "plt.figure()\n",
    "plt.plot(x,y)\n",
    "plt.show()\n"
   ]
  },
  {
   "cell_type": "markdown",
   "metadata": {},
   "source": [
    "f'(t)= dx/dt = f(t+dt)-f(t)/dt = dx/dt = (x[i+1]-x[i]) / dt\n",
    "dx/dt*dt+x[i]= x[i+1]"
   ]
  },
  {
   "cell_type": "markdown",
   "metadata": {},
   "source": [
    "Initial velocity changed from Vxi,Vyi to V,theta"
   ]
  },
  {
   "cell_type": "code",
   "execution_count": 11,
   "metadata": {},
   "outputs": [
    {
     "data": {
      "image/png": "[encoded data removed]",
      "text/plain": [
       "<Figure size 432x288 with 1 Axes>"
      ]
     },
     "metadata": {
      "needs_background": "light"
     },
     "output_type": "display_data"
    }
   ],
   "source": [
    "#constants\n",
    "g  =   -9.8  #m/s^2\n",
    "theta = 60   #'\n",
    "dt =    0.09 #s\n",
    "V=      50   #m/s\n",
    "Vxi=    V*cos(radians(theta))   #m/s\n",
    "Vyi=    V*sin(radians(theta))   #m/s\n",
    "\n",
    "\n",
    "#variables\n",
    "x= np.zeros(100)\n",
    "y= np.zeros(100)\n",
    "t= np.arange(100)*dt\n",
    "\n",
    "for i in range (0,100-1):\n",
    "    #(equation)'\n",
    "    dx_dt= Vxi\n",
    "    dy_dt= Vyi+g*t[i]\n",
    "\n",
    "    #euler's method\n",
    "    x[i+1]= dx_dt*dt + x[i]\n",
    "    y[i+1]= dy_dt*dt + y[i]\n",
    "    \n",
    "#plotting\n",
    "plt.figure()\n",
    "plt.plot(x,y)\n",
    "plt.show()\n"
   ]
  },
  {
   "cell_type": "markdown",
   "metadata": {},
   "source": [
    "Spring Problem using euler's method -----> Spring Simulation"
   ]
  },
  {
   "cell_type": "code",
   "execution_count": 42,
   "metadata": {},
   "outputs": [
    {
     "data": {
      "image/png": "[encoded data removed]",
      "text/plain": [
       "<Figure size 432x288 with 1 Axes>"
      ]
     },
     "metadata": {
      "needs_background": "light"
     },
     "output_type": "display_data"
    }
   ],
   "source": [
    "#I caculated the final velocity and the Impulse of an object with a certain mass and initial velocity\n",
    "#constant\n",
    "g= -9.8    #m/s^2\n",
    "m= 100     #kg\n",
    "k= 50      #N/m\n",
    "imax= 2000 #steps\n",
    "dt= 0.01   #s\n",
    "\n",
    "#variables\n",
    "x= np.zeros(imax)\n",
    "t= np.arange(imax)*dt\n",
    "v= np.zeros(imax)\n",
    "\n",
    "#initial conditions\n",
    "x[0] = 10\n",
    "\n",
    "for i in range (0,imax-1):\n",
    "\n",
    "    #equation\n",
    "    dx_dt= v[i]\n",
    "    dv_dt= g-k*x[i]/m\n",
    "    \n",
    "    #euler's method\n",
    "    x[i+1]= dx_dt*dt + x[i]\n",
    "    v[i+1]= dv_dt*dt + v[i]\n",
    "\n",
    "#plotting\n",
    "plt.figure()\n",
    "plt.plot(t,x)\n",
    "plt.show()"
   ]
  },
  {
   "cell_type": "markdown",
   "metadata": {},
   "source": [
    "Avenue Q penny drop simulation"
   ]
  },
  {
   "cell_type": "code",
   "execution_count": 8,
   "metadata": {},
   "outputs": [
    {
     "data": {
      "image/png": "[encoded data removed]",
      "text/plain": [
       "<Figure size 432x288 with 1 Axes>"
      ]
     },
     "metadata": {
      "needs_background": "light"
     },
     "output_type": "display_data"
    },
    {
     "name": "stdout",
     "output_type": "stream",
     "text": [
      "t[imin]= 8.9 s\n",
      "Vf= 87.22000000000001 m/s\n",
      "P(Impulse)= 0.21805000000000005 N*s\n",
      "\n",
      "You'll be alright!\n"
     ]
    }
   ],
   "source": [
    "#constant\n",
    "g= -9.8   #m/s\n",
    "m= 2.5*10**-3   #kg #(Mass of Penny after 1982: 2.5*10**-3)\n",
    "V= 0     #m/s\n",
    "theta= 270\n",
    "Vxi= V*cos(radians(theta)) #m/s\n",
    "Vyi= V*sin(radians(theta)) #m/s\n",
    "dt= 0.1   #s\n",
    "imax= 100\n",
    "\n",
    "#height of the empire state excluding its athena (381 m)\n",
    "h= 381    #m\n",
    "\n",
    "#Vyi after adding h[0]\n",
    "#Vyi= h/t[i] + 1/2*g*t[i]\n",
    "\n",
    "#variable\n",
    "x= np.zeros(imax)\n",
    "y= np.zeros(imax)\n",
    "t= np.arange(imax)*dt\n",
    "\n",
    "#initial condition\n",
    "y[0]= h\n",
    "\n",
    "for i in range (0,imax-1):\n",
    "    \n",
    "    #equation\n",
    "    dx_dt= Vxi\n",
    "    dy_dt= Vyi + g*t[i]\n",
    "    \n",
    "    #euler's method\n",
    "    x[i+1]= dx_dt*dt + x[i]\n",
    "    y[i+1]= dy_dt*dt + y[i]\n",
    "    \n",
    "#plotting\n",
    "plt.figure()\n",
    "plt.plot(x,np.abs(y))\n",
    "plt.show()\n",
    "\n",
    "#-------------------------------------------------------------------------------------------------------------------------------\n",
    "imin= np.argmin(np.abs(y))\n",
    "Vxf= Vxi\n",
    "Vyf= Vyi + g*t[imin]\n",
    "\n",
    "Vf= sqrt(Vxf**2 + Vyf**2)\n",
    "\n",
    "#The force of impact before hitting the ground\n",
    "P= abs(m*Vf)\n",
    "\n",
    "print (\"t[imin]= \" + str(t[imin]) + \" s\")\n",
    "print (\"Vf= \" + str(Vf) + \" m/s\")\n",
    "print (\"P(Impulse)= \" + str(P) + \" N*s\")\n",
    "print (\"\")\n",
    "\n",
    "#Human can withstand Pmax= 2061.68 N*s\n",
    "Pmax= Pmax= 2061.68 #N*s\n",
    "if P>= Pmax:\n",
    "    print (\"DEATH DOOR\")\n",
    "elif Pmax/2.5< P < Pmax:\n",
    "    print (\"AMBULANCE QUICK!!!\")\n",
    "elif Pmax/4< P < Pmax/2.5:\n",
    "    print (\"Might check with the doctor ( ͡° ͜ʖ ͡°)\")\n",
    "elif P< Pmax/4:\n",
    "    print (\"You'll be alright!\")"
   ]
  },
  {
   "cell_type": "code",
   "execution_count": null,
   "metadata": {},
   "outputs": [],
   "source": []
  }
 ],
 "metadata": {
  "kernelspec": {
   "display_name": "Python 3",
   "language": "python",
   "name": "python3"
  },
  "language_info": {
   "codemirror_mode": {
    "name": "ipython",
    "version": 3
   },
   "file_extension": ".py",
   "mimetype": "text/x-python",
   "name": "python",
   "nbconvert_exporter": "python",
   "pygments_lexer": "ipython3",
   "version": "3.7.1"
  }
 },
 "nbformat": 4,
 "nbformat_minor": 2
}
